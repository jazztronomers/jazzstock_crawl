{
 "cells": [
  {
   "cell_type": "code",
   "execution_count": 2,
   "metadata": {},
   "outputs": [],
   "source": [
    "import sys\n",
    "sys.path.insert(0,'/workspace')\n",
    "sys.path.insert(0,'/workspace/jazzstock_bot')"
   ]
  },
  {
   "cell_type": "code",
   "execution_count": 3,
   "metadata": {},
   "outputs": [
    {
     "name": "stdout",
     "output_type": "stream",
     "text": [
      "{'snd_day': 2443, 'ohlc_min': 2349}\n",
      "2020-12-09 22:52:36.112930\n"
     ]
    }
   ],
   "source": [
    "import common.connector_db as db\n",
    "import sys\n",
    "\n",
    "\n",
    "dic = {'snd_day':len(db.selectpd('SELECT DISTINCT STOCKCODE FROM jazzdb.T_STOCK_SND_DAY WHERE DATE = \"2020-11-26\"')),\n",
    "       'ohlc_min':len(db.selectpd('SELECT DISTINCT STOCKCODE FROM jazzdb.T_STOCK_OHLC_MIN WHERE DATE = \"2020-11-26\"'))}\n",
    "\n",
    "\n",
    "print(dic)\n",
    "\n",
    "from datetime import datetime\n",
    "\n",
    "print(datetime.now())"
   ]
  },
  {
   "cell_type": "code",
   "execution_count": 30,
   "metadata": {},
   "outputs": [
    {
     "name": "stdout",
     "output_type": "stream",
     "text": [
      "0 2020-11-23 2440 379\n",
      "1 2020-11-20 2440 2342\n",
      "2 2020-11-19 2439 2341\n",
      "3 2020-11-18 2439 2339\n",
      "4 2020-11-17 2438 2345\n",
      "5 2020-11-16 2437 2341\n",
      "6 2020-11-13 2437 2344\n",
      "7 2020-11-12 2437 2341\n",
      "8 2020-11-11 2435 2345\n",
      "9 2020-11-10 2435 2341\n",
      "10 2020-11-09 2431 2338\n",
      "11 2020-11-06 2431 2343\n",
      "12 2020-11-05 2429 2329\n",
      "13 2020-11-04 2429 2339\n",
      "14 2020-11-03 2429 2338\n",
      "15 2020-11-02 2429 2335\n",
      "16 2020-10-30 2429 2249\n",
      "17 2020-10-29 2428 2285\n",
      "18 2020-10-28 2423 2323\n",
      "19 2020-10-27 2422 2273\n"
     ]
    }
   ],
   "source": [
    "import common.connector_db as db\n",
    "import sys\n",
    "\n",
    "for idx in range(0,20):\n",
    "\n",
    "    the_date = db.selectSingleValue(f'SELECT DATE FROM jazzdb.T_DATE_INDEXED WHERE CNT = {idx}')\n",
    "    dic = {'snd_day':len(db.selectpd(f'SELECT DISTINCT STOCKCODE FROM jazzdb.T_STOCK_SND_DAY WHERE DATE = \"{the_date}\"')),\n",
    "           'ohlc_min':len(db.selectpd(f'SELECT DISTINCT STOCKCODE FROM jazzdb.T_STOCK_OHLC_MIN WHERE DATE = \"{the_date}\"'))}\n",
    "\n",
    "\n",
    "    print(idx, the_date, dic['snd_day'], dic['ohlc_min'])"
   ]
  },
  {
   "cell_type": "code",
   "execution_count": null,
   "metadata": {},
   "outputs": [],
   "source": []
  },
  {
   "cell_type": "code",
   "execution_count": null,
   "metadata": {},
   "outputs": [],
   "source": []
  }
 ],
 "metadata": {
  "kernelspec": {
   "display_name": "Python 3",
   "language": "python",
   "name": "python3"
  },
  "language_info": {
   "codemirror_mode": {
    "name": "ipython",
    "version": 3
   },
   "file_extension": ".py",
   "mimetype": "text/x-python",
   "name": "python",
   "nbconvert_exporter": "python",
   "pygments_lexer": "ipython3",
   "version": "3.6.12"
  }
 },
 "nbformat": 4,
 "nbformat_minor": 4
}
