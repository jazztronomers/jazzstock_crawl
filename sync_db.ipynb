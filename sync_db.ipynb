{
 "cells": [
  {
   "cell_type": "code",
   "execution_count": 4,
   "metadata": {},
   "outputs": [
    {
     "name": "stdout",
     "output_type": "stream",
     "text": [
      "175.125.21.43\n",
      "110.11.230.10\n"
     ]
    }
   ],
   "source": [
    "import common.connector_db as db\n",
    "import config.config as cf\n",
    "import socket\n",
    "\n",
    "\n",
    "ip_prod = cf.IP\n",
    "ip_dev = socket.gethostbyname('jazztronomers.iptime.org')\n",
    "\n"
   ]
  },
  {
   "cell_type": "code",
   "execution_count": 26,
   "metadata": {},
   "outputs": [],
   "source": [
    "\n",
    "        \n"
   ]
  },
  {
   "cell_type": "code",
   "execution_count": 26,
   "metadata": {},
   "outputs": [],
   "source": [
    "db.delete('DELETE FROM jazzdb.T_DATE_INDEXED')"
   ]
  },
  {
   "cell_type": "code",
   "execution_count": 57,
   "metadata": {},
   "outputs": [],
   "source": [
    "TABLE_A = ['jazzdb.T_STOCK_BB',\n",
    "           'jazzdb.T_STOCK_MA',\n",
    "           'jazzdb.T_STOCK_MC',\n",
    "           'jazzdb.T_STOCK_OHLC_DAY',\n",
    "           'jazzdb.T_STOCK_SHARES_INFO',\n",
    "           'jazzdb.T_STOCK_SND_ANALYSIS_LONGTERM',\n",
    "           'jazzdb.T_STOCK_SND_ANALYSIS_RESULT_TEMP',\n",
    "           'jazzdb.T_STOCK_SND_DAY']\n",
    "\n",
    "TABLE_B = ['jazzdb.T_STOCK_OHLC_MIN']"
   ]
  },
  {
   "cell_type": "code",
   "execution_count": 62,
   "metadata": {},
   "outputs": [],
   "source": [
    "def sync_table_a(table, ip_prod, ip_dev):\n",
    "    \n",
    "    \n",
    "    # GET MAX DATE IN DEV\n",
    "    max_date_dev = db.selectSingleValue(f'SELECT MAX(DATE) FROM {each_table}', ip= ip_dev)\n",
    "    # GET DATAFRAME TO SYNC\n",
    "    \n",
    "    date_to_sync = db.selectSingleColumn(f'SELECT CAST(DATE AS CHAR) AS DATE FROM jazzdb.T_DATE_INDEXED WHERE DATE > \"{max_date_dev}\"')\n",
    "    \n",
    "    for each_date in date_to_sync:\n",
    "        df_from = db.selectpd(f'SELECT * FROM {table} WHERE 1=1 AND DATE = \"{each_date}\"', ip=ip_prod)\n",
    "        if('DATE' in df_from.columns):\n",
    "            df_from['DATE'] = df_from['DATE'].astype(str)\n",
    "        db.insertdf(table=table, ip=ip_dev, df=df_from)\n",
    "        df_to = db.selectpd(f'SELECT * FROM {table} WHERE 1=1 AND DATE = \"{each_date}\"', ip=ip_dev)\n",
    "        \n",
    "        print(each_date, len(df_from), len(df_to), table)\n",
    "        \n",
    "        \n",
    "        \n",
    "        "
   ]
  },
  {
   "cell_type": "code",
   "execution_count": 63,
   "metadata": {},
   "outputs": [
    {
     "name": "stdout",
     "output_type": "stream",
     "text": [
      "2020-11-09 2245 2245 jazzdb.T_STOCK_BB\n",
      "2020-11-10 2245 2245 jazzdb.T_STOCK_BB\n",
      "2020-11-11 2245 2245 jazzdb.T_STOCK_BB\n",
      "2020-11-12 2246 2246 jazzdb.T_STOCK_BB\n",
      "2020-11-13 2246 2246 jazzdb.T_STOCK_BB\n",
      "2020-11-16 2247 2247 jazzdb.T_STOCK_BB\n",
      "2020-11-17 2230 2230 jazzdb.T_STOCK_BB\n",
      "2020-11-18 2248 2248 jazzdb.T_STOCK_BB\n",
      "2020-11-19 2249 2249 jazzdb.T_STOCK_BB\n",
      "2020-11-20 2342 2342 jazzdb.T_STOCK_BB\n",
      "----------------------------------------------------------------------------------------------------\n",
      "2020-11-09 2325 2325 jazzdb.T_STOCK_MA\n",
      "2020-11-10 2256 2256 jazzdb.T_STOCK_MA\n",
      "2020-11-11 2434 2434 jazzdb.T_STOCK_MA\n",
      "2020-11-12 2256 2256 jazzdb.T_STOCK_MA\n",
      "2020-11-13 2049 2049 jazzdb.T_STOCK_MA\n",
      "2020-11-16 2436 2436 jazzdb.T_STOCK_MA\n",
      "2020-11-17 2437 2437 jazzdb.T_STOCK_MA\n",
      "2020-11-18 2438 2438 jazzdb.T_STOCK_MA\n",
      "2020-11-19 2438 2438 jazzdb.T_STOCK_MA\n",
      "2020-11-20 2440 2440 jazzdb.T_STOCK_MA\n",
      "----------------------------------------------------------------------------------------------------\n",
      "2020-11-09 2273 2273 jazzdb.T_STOCK_MC\n",
      "2020-11-10 2151 2151 jazzdb.T_STOCK_MC\n",
      "2020-11-11 2331 2331 jazzdb.T_STOCK_MC\n",
      "2020-11-12 2208 2208 jazzdb.T_STOCK_MC\n",
      "2020-11-13 2026 2026 jazzdb.T_STOCK_MC\n",
      "2020-11-16 2332 2332 jazzdb.T_STOCK_MC\n",
      "2020-11-17 2310 2310 jazzdb.T_STOCK_MC\n",
      "2020-11-18 2333 2333 jazzdb.T_STOCK_MC\n",
      "2020-11-19 2334 2334 jazzdb.T_STOCK_MC\n",
      "2020-11-20 2336 2336 jazzdb.T_STOCK_MC\n",
      "----------------------------------------------------------------------------------------------------\n",
      "2020-11-09 2430 2430 jazzdb.T_STOCK_OHLC_DAY\n",
      "2020-11-10 2430 2430 jazzdb.T_STOCK_OHLC_DAY\n",
      "2020-11-11 2434 2434 jazzdb.T_STOCK_OHLC_DAY\n",
      "2020-11-12 2434 2434 jazzdb.T_STOCK_OHLC_DAY\n",
      "2020-11-13 2436 2436 jazzdb.T_STOCK_OHLC_DAY\n",
      "2020-11-16 2436 2436 jazzdb.T_STOCK_OHLC_DAY\n",
      "2020-11-17 2413 2413 jazzdb.T_STOCK_OHLC_DAY\n",
      "2020-11-18 2437 2437 jazzdb.T_STOCK_OHLC_DAY\n",
      "2020-11-19 2438 2438 jazzdb.T_STOCK_OHLC_DAY\n",
      "2020-11-20 2440 2440 jazzdb.T_STOCK_OHLC_DAY\n",
      "----------------------------------------------------------------------------------------------------\n",
      "2020-11-09 9978 9978 jazzdb.T_STOCK_SHARES_INFO\n",
      "2020-11-10 9710 9710 jazzdb.T_STOCK_SHARES_INFO\n",
      "2020-11-11 9972 9972 jazzdb.T_STOCK_SHARES_INFO\n",
      "2020-11-12 9971 9971 jazzdb.T_STOCK_SHARES_INFO\n",
      "2020-11-13 9971 9971 jazzdb.T_STOCK_SHARES_INFO\n",
      "2020-11-16 9972 9972 jazzdb.T_STOCK_SHARES_INFO\n",
      "2020-11-17 9890 9890 jazzdb.T_STOCK_SHARES_INFO\n",
      "2020-11-18 9971 9971 jazzdb.T_STOCK_SHARES_INFO\n",
      "2020-11-19 9974 9974 jazzdb.T_STOCK_SHARES_INFO\n",
      "2020-11-20 9978 9978 jazzdb.T_STOCK_SHARES_INFO\n",
      "----------------------------------------------------------------------------------------------------\n",
      "2020-11-09 2273 2273 jazzdb.T_STOCK_SND_ANALYSIS_LONGTERM\n",
      "2020-11-10 2151 2151 jazzdb.T_STOCK_SND_ANALYSIS_LONGTERM\n",
      "2020-11-11 2331 2331 jazzdb.T_STOCK_SND_ANALYSIS_LONGTERM\n",
      "2020-11-12 2208 2208 jazzdb.T_STOCK_SND_ANALYSIS_LONGTERM\n",
      "2020-11-13 2026 2026 jazzdb.T_STOCK_SND_ANALYSIS_LONGTERM\n",
      "2020-11-16 2332 2332 jazzdb.T_STOCK_SND_ANALYSIS_LONGTERM\n",
      "2020-11-17 2100 2100 jazzdb.T_STOCK_SND_ANALYSIS_LONGTERM\n",
      "2020-11-18 2333 2333 jazzdb.T_STOCK_SND_ANALYSIS_LONGTERM\n",
      "2020-11-19 2334 2334 jazzdb.T_STOCK_SND_ANALYSIS_LONGTERM\n",
      "2020-11-20 2336 2336 jazzdb.T_STOCK_SND_ANALYSIS_LONGTERM\n",
      "----------------------------------------------------------------------------------------------------\n",
      "2020-11-09 2273 2273 jazzdb.T_STOCK_SND_ANALYSIS_RESULT_TEMP\n",
      "2020-11-10 2151 2151 jazzdb.T_STOCK_SND_ANALYSIS_RESULT_TEMP\n",
      "2020-11-11 2331 2331 jazzdb.T_STOCK_SND_ANALYSIS_RESULT_TEMP\n",
      "2020-11-12 2208 2208 jazzdb.T_STOCK_SND_ANALYSIS_RESULT_TEMP\n",
      "2020-11-13 2026 2026 jazzdb.T_STOCK_SND_ANALYSIS_RESULT_TEMP\n",
      "2020-11-16 2332 2332 jazzdb.T_STOCK_SND_ANALYSIS_RESULT_TEMP\n",
      "2020-11-17 2310 2310 jazzdb.T_STOCK_SND_ANALYSIS_RESULT_TEMP\n",
      "2020-11-18 2333 2333 jazzdb.T_STOCK_SND_ANALYSIS_RESULT_TEMP\n",
      "2020-11-19 2334 2334 jazzdb.T_STOCK_SND_ANALYSIS_RESULT_TEMP\n",
      "2020-11-20 2334 2334 jazzdb.T_STOCK_SND_ANALYSIS_RESULT_TEMP\n",
      "----------------------------------------------------------------------------------------------------\n",
      "2020-11-09 2431 2431 jazzdb.T_STOCK_SND_DAY\n",
      "2020-11-10 2435 2435 jazzdb.T_STOCK_SND_DAY\n",
      "2020-11-11 2435 2435 jazzdb.T_STOCK_SND_DAY\n",
      "2020-11-12 2437 2437 jazzdb.T_STOCK_SND_DAY\n",
      "2020-11-13 2437 2437 jazzdb.T_STOCK_SND_DAY\n",
      "2020-11-16 2437 2437 jazzdb.T_STOCK_SND_DAY\n",
      "2020-11-17 2438 2438 jazzdb.T_STOCK_SND_DAY\n",
      "2020-11-18 2439 2439 jazzdb.T_STOCK_SND_DAY\n",
      "2020-11-19 2439 2439 jazzdb.T_STOCK_SND_DAY\n",
      "2020-11-20 2440 2440 jazzdb.T_STOCK_SND_DAY\n",
      "----------------------------------------------------------------------------------------------------\n"
     ]
    }
   ],
   "source": [
    "for each_table in TABLE_A:\n",
    "    sync_table_a(each_table, ip_prod, ip_dev)\n",
    "    print('-'*100)\n",
    "    "
   ]
  },
  {
   "cell_type": "code",
   "execution_count": null,
   "metadata": {},
   "outputs": [],
   "source": []
  }
 ],
 "metadata": {
  "kernelspec": {
   "display_name": "Python 3",
   "language": "python",
   "name": "python3"
  },
  "language_info": {
   "codemirror_mode": {
    "name": "ipython",
    "version": 3
   },
   "file_extension": ".py",
   "mimetype": "text/x-python",
   "name": "python",
   "nbconvert_exporter": "python",
   "pygments_lexer": "ipython3",
   "version": "3.6.12"
  }
 },
 "nbformat": 4,
 "nbformat_minor": 4
}
