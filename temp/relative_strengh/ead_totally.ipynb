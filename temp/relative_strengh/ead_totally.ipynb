{
 "cells": [
  {
   "cell_type": "code",
   "execution_count": null,
   "metadata": {},
   "outputs": [],
   "source": [
    "'''\n",
    "\n",
    "신고가 갱신중인가\n",
    "단기 조정폯이 큰가\n",
    "단기 조정을 겪은후 횡보중인가\n",
    "신고가 갱신후 단기 거래량이 몇 거래일간 횡보중인가\n",
    "횡보밴드의 폯 정의\n",
    "실적쇼크는 없는가\n",
    "기관수급은 양호한가\n",
    "외인수급은 양호한가\n",
    "\n",
    "'''"
   ]
  }
 ],
 "metadata": {
  "kernelspec": {
   "display_name": "Python 3",
   "language": "python",
   "name": "python3"
  },
  "language_info": {
   "codemirror_mode": {
    "name": "ipython",
    "version": 3
   },
   "file_extension": ".py",
   "mimetype": "text/x-python",
   "name": "python",
   "nbconvert_exporter": "python",
   "pygments_lexer": "ipython3",
   "version": "3.6.12"
  }
 },
 "nbformat": 4,
 "nbformat_minor": 4
}
