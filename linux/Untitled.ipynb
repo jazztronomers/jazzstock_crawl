{
 "cells": [
  {
   "cell_type": "code",
   "execution_count": 11,
   "metadata": {},
   "outputs": [],
   "source": [
    "from datetime import datetime"
   ]
  },
  {
   "cell_type": "code",
   "execution_count": 12,
   "metadata": {},
   "outputs": [],
   "source": [
    "start = datetime.now()"
   ]
  },
  {
   "cell_type": "code",
   "execution_count": 13,
   "metadata": {},
   "outputs": [],
   "source": [
    "elt = datetime.now()-start"
   ]
  },
  {
   "cell_type": "code",
   "execution_count": 17,
   "metadata": {},
   "outputs": [
    {
     "name": "stdout",
     "output_type": "stream",
     "text": [
      "8.496096\n"
     ]
    }
   ],
   "source": [
    "print(elt.total_seconds())"
   ]
  },
  {
   "cell_type": "code",
   "execution_count": 18,
   "metadata": {},
   "outputs": [],
   "source": [
    "import common.connector_db as db"
   ]
  },
  {
   "cell_type": "code",
   "execution_count": 20,
   "metadata": {},
   "outputs": [],
   "source": [
    "query = '''\n",
    "\n",
    "SELECT A.DATE, CONCAT(B.STOCKCODE, '_', B.STOCKNAME) AS  STOCKNAME\n",
    "        , CLOSE, P1, MC, BBP, BBW, PSMAR5 AS PMA5, PSMAR20 AS PMA20, PSMAR60 AS PMA60, PSMAR120 AS PMA120, VSMAR5 AS VMA5, VSMAR20 AS VMA20, VSMAR60 AS VMA60, VSMAR120 AS VMA120, PS5, L2BE, L1BE, PRO1, PRO3, PRO5, PRO10, PRH1, PRH3, PRH5, PRH10\n",
    "        \n",
    "        \n",
    "        FROM jazzdb.T_STOCK_SND_ANALYSIS_RESULT_TEMP A\n",
    "        JOIN jazzdb.T_STOCK_CODE_MGMT B USING (STOCKCODE)\n",
    "        LEFT JOIN jazzdb.T_STOCK_SND_ANALYSIS_LONGTERM D USING (STOCKCODE, DATE)\n",
    "        LEFT JOIN jazzdb.T_STOCK_BB_EVENT E ON (A.STOCKCODE = E.STOCKCODE AND A.DATE = E.DATE)\n",
    "        #=========================================================================\n",
    "        LEFT JOIN (\n",
    "\n",
    "                    SELECT STOCKCODE, EPSC, BPS, ROE\n",
    "                    FROM jazzdb.T_STOCK_FINAN E\n",
    "                    WHERE 1=1\n",
    "                    AND DATE = '2103'\n",
    "                    AND TYPE = 'C'\n",
    "\n",
    "        )F ON (A.STOCKCODE = F.STOCKCODE)\n",
    "        LEFT JOIN jazzdb.T_STOCK_BB I ON (A.STOCKCODE = I.STOCKCODE AND A.DATE = I.DATE)\n",
    "        LEFT JOIN jazzdb.T_STOCK_MC J ON (A.STOCKCODE = J.STOCKCODE AND A.DATE = J.DATE)\n",
    "        LEFT JOIN jazzdb.T_STOCK_DAY_SMAR K ON (A.STOCKCODE = K.STOCKCODE AND A.DATE = K.DATE)        \n",
    "        LEFT JOIN jazzdb.T_STOCK_SHARES_CIRCRATE M ON (A.STOCKCODE = M.STOCKCODE AND A.DATE = M.DATE)\n",
    "        LEFT JOIN jazzdb.T_STOCK_FUTURE_PRICE N ON (A.STOCKCODE = N.STOCKCODE AND A.DATE = N.DATE)\n",
    "        \n",
    "        WHERE 1=1\n",
    "        AND A.DATE BETWEEN \"2021-05-01\" AND \"2021-06-30\"\n",
    "                AND VSMAR5 > 1\n",
    "        AND BBW < '0.11'\n",
    "        AND PS5 < 0\n",
    "        AND L2BE = 'MU'\n",
    "        AND L1BE = 'UU'\n",
    "        AND MC > 1\n",
    "        ORDER BY A.DATE DESC\n",
    "\n",
    "'''\n",
    "\n",
    "df = db.selectpd(query)\n",
    "\n",
    "print(df)"
   ]
  },
  {
   "cell_type": "code",
   "execution_count": 26,
   "metadata": {},
   "outputs": [
    {
     "data": {
      "text/plain": [
       "['DATE',\n",
       " 'STOCKNAME',\n",
       " 'CLOSE',\n",
       " 'P1',\n",
       " 'MC',\n",
       " 'BBP',\n",
       " 'BBW',\n",
       " 'PMA5',\n",
       " 'PMA20',\n",
       " 'PMA60',\n",
       " 'PMA120',\n",
       " 'VMA5',\n",
       " 'VMA20',\n",
       " 'VMA60',\n",
       " 'VMA120',\n",
       " 'PS5',\n",
       " 'L2BE',\n",
       " 'L1BE',\n",
       " 'PRO1',\n",
       " 'PRO3',\n",
       " 'PRO5',\n",
       " 'PRO10',\n",
       " 'PRH1',\n",
       " 'PRH3',\n",
       " 'PRH5',\n",
       " 'PRH10']"
      ]
     },
     "execution_count": 26,
     "metadata": {},
     "output_type": "execute_result"
    }
   ],
   "source": [
    "df.to_dict(orient=\"records\")\n",
    "\n",
    "df.columns.tolist()\n"
   ]
  },
  {
   "cell_type": "code",
   "execution_count": 28,
   "metadata": {},
   "outputs": [
    {
     "data": {
      "text/plain": [
       "['2021-06-30',\n",
       " '2021-06-29',\n",
       " '2021-06-28',\n",
       " '2021-06-25',\n",
       " '2021-06-24',\n",
       " '2021-06-23',\n",
       " '2021-06-22',\n",
       " '2021-06-21',\n",
       " '2021-06-18',\n",
       " '2021-06-17',\n",
       " '2021-06-16',\n",
       " '2021-06-15',\n",
       " '2021-06-14',\n",
       " '2021-06-11',\n",
       " '2021-06-10',\n",
       " '2021-06-09',\n",
       " '2021-06-08',\n",
       " '2021-06-07',\n",
       " '2021-06-04',\n",
       " '2021-06-03',\n",
       " '2021-06-02',\n",
       " '2021-06-01',\n",
       " '2021-05-31',\n",
       " '2021-05-28',\n",
       " '2021-05-27',\n",
       " '2021-05-26',\n",
       " '2021-05-25',\n",
       " '2021-05-24',\n",
       " '2021-05-18',\n",
       " '2021-05-17',\n",
       " '2021-05-14',\n",
       " '2021-05-13',\n",
       " '2021-05-12',\n",
       " '2021-05-11',\n",
       " '2021-05-10',\n",
       " '2021-05-07',\n",
       " '2021-05-06',\n",
       " '2021-05-03']"
      ]
     },
     "execution_count": 28,
     "metadata": {},
     "output_type": "execute_result"
    }
   ],
   "source": [
    "df['DATE'].drop_duplicates().tolist()"
   ]
  },
  {
   "cell_type": "code",
   "execution_count": null,
   "metadata": {},
   "outputs": [],
   "source": []
  }
 ],
 "metadata": {
  "kernelspec": {
   "display_name": "Python 3",
   "language": "python",
   "name": "python3"
  },
  "language_info": {
   "codemirror_mode": {
    "name": "ipython",
    "version": 3
   },
   "file_extension": ".py",
   "mimetype": "text/x-python",
   "name": "python",
   "nbconvert_exporter": "python",
   "pygments_lexer": "ipython3",
   "version": "3.6.12"
  }
 },
 "nbformat": 4,
 "nbformat_minor": 4
}
