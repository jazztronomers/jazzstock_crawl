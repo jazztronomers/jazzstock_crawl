{
 "cells": [
  {
   "cell_type": "code",
   "execution_count": 21,
   "metadata": {},
   "outputs": [],
   "source": [
    "import pandas as pd\n",
    "from jazzstock_bot.common import connector_db as db\n",
    "import time\n",
    "\n",
    "\n",
    "def makemc():\n",
    "    db.insert('''\n",
    "\n",
    "    INSERT INTO jazzdb.T_STOCK_MC\n",
    "    SELECT STOCKCODE, DATE, ABS(CLOSE) * SHARE / 100000000000\n",
    "    FROM jazzdb.T_STOCK_SND_DAY\n",
    "    JOIN jazzdb.T_DATE_INDEXED A USING (DATE)\n",
    "    JOIN (SELECT STOCKCODE, DATE, SHARE FROM jazzdb.T_STOCK_SHARES_INFO WHERE HOLDER = '발행주식수') B USING (STOCKCODE,DATE)\n",
    "    WHERE 1=1\n",
    "    AND CNT=0\n",
    "\n",
    "\n",
    "    ''')\n",
    "\n",
    "\n",
    "makemc()"
   ]
  },
  {
   "cell_type": "code",
   "execution_count": null,
   "metadata": {},
   "outputs": [],
   "source": []
  }
 ],
 "metadata": {
  "kernelspec": {
   "display_name": "Python 3",
   "language": "python",
   "name": "python3"
  },
  "language_info": {
   "codemirror_mode": {
    "name": "ipython",
    "version": 3
   },
   "file_extension": ".py",
   "mimetype": "text/x-python",
   "name": "python",
   "nbconvert_exporter": "python",
   "pygments_lexer": "ipython3",
   "version": "3.6.12"
  }
 },
 "nbformat": 4,
 "nbformat_minor": 4
}
