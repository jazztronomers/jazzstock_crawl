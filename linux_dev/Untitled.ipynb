{
 "cells": [
  {
   "cell_type": "code",
   "execution_count": 55,
   "metadata": {},
   "outputs": [
    {
     "name": "stdout",
     "output_type": "stream",
     "text": [
      "<class 'datetime.date'>\n"
     ]
    }
   ],
   "source": [
    "import common.connector_db as db\n",
    "from datetime import datetime\n",
    "\n",
    "\n",
    "DATE = str(datetime.now().date())\n",
    "\n",
    "df = db.selectpd('''\n",
    "\n",
    "\n",
    "SELECT * \n",
    "FROM jazzdb.T_STOCK_SHARES_INFO\n",
    "WHERE 1=1\n",
    "AND DATE = '%s'\n",
    "AND HOLDER IN ('발행주식수', '유통주식수')\n",
    "AND SHARE\n",
    "\n",
    "'''%(DATE))\n",
    "\n",
    "\n",
    "pvdf = df.pivot(index='STOCKCODE', columns='HOLDER', values='SHARE').reset_index()\n",
    "\n",
    "pvdf['CIRCRATE'] = pvdf['유통주식수']/pvdf['발행주식수']\n",
    "pvdf['DATE'] = DATE\n",
    "rsdf = pvdf[['STOCKCODE','DATE','CIRCRATE']]\n",
    "\n",
    "\n",
    "db.insertdf(rsdf, table='jazzdb.T_STOCK_SHARES_CIRCRATE')"
   ]
  },
  {
   "cell_type": "code",
   "execution_count": null,
   "metadata": {},
   "outputs": [],
   "source": []
  }
 ],
 "metadata": {
  "kernelspec": {
   "display_name": "Python 3",
   "language": "python",
   "name": "python3"
  },
  "language_info": {
   "codemirror_mode": {
    "name": "ipython",
    "version": 3
   },
   "file_extension": ".py",
   "mimetype": "text/x-python",
   "name": "python",
   "nbconvert_exporter": "python",
   "pygments_lexer": "ipython3",
   "version": "3.6.12"
  }
 },
 "nbformat": 4,
 "nbformat_minor": 4
}
